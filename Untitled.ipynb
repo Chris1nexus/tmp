{
 "cells": [
  {
   "cell_type": "code",
   "execution_count": 10,
   "id": "d9e7ebd4",
   "metadata": {},
   "outputs": [
    {
     "data": {
      "text/plain": [
       "'{\"action\": \"2\", \"steerAngle\": 23.0}'"
      ]
     },
     "execution_count": 10,
     "metadata": {},
     "output_type": "execute_result"
    }
   ],
   "source": [
    "import json\n",
    "STEER_CMD = {\"action\":\"2\", \"steerAngle\": 0. }\n",
    "\n",
    "cnt = 2\n",
    "\n",
    "STEER_CMD['steerAngle'] = float(((-1)**cnt) * 23.0) \n",
    "json.dumps(STEER_CMD)"
   ]
  },
  {
   "cell_type": "code",
   "execution_count": 6,
   "id": "f491eea1",
   "metadata": {},
   "outputs": [
    {
     "data": {
      "text/plain": [
       "'{\"action\":\"2\", \"steerAngle\":{0:.3f} }'"
      ]
     },
     "execution_count": 6,
     "metadata": {},
     "output_type": "execute_result"
    }
   ],
   "source": [
    "STEER_CMD"
   ]
  }
 ],
 "metadata": {
  "kernelspec": {
   "display_name": "Python 3 (ipykernel)",
   "language": "python",
   "name": "python3"
  },
  "language_info": {
   "codemirror_mode": {
    "name": "ipython",
    "version": 3
   },
   "file_extension": ".py",
   "mimetype": "text/x-python",
   "name": "python",
   "nbconvert_exporter": "python",
   "pygments_lexer": "ipython3",
   "version": "3.8.10"
  }
 },
 "nbformat": 4,
 "nbformat_minor": 5
}
